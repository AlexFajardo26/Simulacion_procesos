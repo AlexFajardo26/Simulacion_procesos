{
 "cells": [
  {
   "cell_type": "code",
   "execution_count": 30,
   "metadata": {},
   "outputs": [],
   "source": [
    "import numpy as np\n",
    "import pandas as pd\n",
    "import yfinance as yf\n",
    "import matplotlib.pyplot as plt\n",
    "import time"
   ]
  },
  {
   "cell_type": "markdown",
   "metadata": {},
   "source": [
    "## No vectorizada"
   ]
  },
  {
   "cell_type": "code",
   "execution_count": 31,
   "metadata": {},
   "outputs": [],
   "source": [
    "def price_barrier_option(option_type, ticker, K, barrier_price):\n",
    "    # Descargar precios históricos\n",
    "    data = yf.download(ticker, start='2022-01-01', end='2025-03-15')['Close']['SPY']\n",
    "\n",
    "    daily_returns = data.pct_change().dropna()\n",
    "\n",
    "    # Parámetros\n",
    "    S0 = float(data.iloc[-1])\n",
    "    sigma = daily_returns.std() * np.sqrt(252)\n",
    "    r = 0.10\n",
    "    T_days = 252\n",
    "    T = 1  # años\n",
    "    dt = T / T_days\n",
    "    num_simulations = 100_000\n",
    "    # Simulaciones\n",
    "    Z = np.random.normal(0, 1, (num_simulations, T_days))\n",
    "\n",
    "\n",
    "    price_matrix = np.zeros((num_simulations, T_days + 1))\n",
    "    payoffs = np.zeros(num_simulations)\n",
    "\n",
    "    for i in range(num_simulations):\n",
    "        path = [S0]\n",
    "        barrier_breached = False\n",
    "        for t in range(1, T_days + 1):\n",
    "            St = path[-1] * np.exp((r - 0.5 * sigma**2) * dt + sigma * np.sqrt(dt) * Z[i, t-1])\n",
    "            path.append(St)\n",
    "\n",
    "            if St > barrier_price:  # up-and-out\n",
    "                barrier_breached = True\n",
    "                break\n",
    "\n",
    "\n",
    "        if not barrier_breached:\n",
    "            ST = path[-1]\n",
    "            if option_type == 'put':\n",
    "                payoffs[i] = max(K - ST, 0)\n",
    "            else:\n",
    "                payoffs[i] = max(ST - K, 0)\n",
    "\n",
    "\n",
    "    price = np.exp(-r * T) * np.mean(payoffs)\n",
    "    return S0, price"
   ]
  },
  {
   "cell_type": "markdown",
   "metadata": {},
   "source": [
    "## Vectorizada"
   ]
  },
  {
   "cell_type": "code",
   "execution_count": 32,
   "metadata": {},
   "outputs": [],
   "source": [
    "def price_barrier_option_vectorizado(option_type, ticker, K, barrier_price):\n",
    "    # Descargar precios históricos\n",
    "    data = yf.download(ticker, start='2022-01-01', end='2025-03-15')['Close']['SPY']\n",
    "    daily_returns = data.pct_change().dropna()\n",
    "\n",
    "    # Parámetros\n",
    "    S0 = float(data.iloc[-1])\n",
    "    sigma = daily_returns.std() * np.sqrt(252)\n",
    "    r = 0.10\n",
    "    T_days = 252\n",
    "    T = 1  # años\n",
    "    dt = T / T_days\n",
    "    num_simulations = 100_000\n",
    "    Z = np.random.normal(0, 1, (num_simulations, T_days))\n",
    "\n",
    "    returns = (r - 0.5 * sigma**2) * dt  +  sigma * np.sqrt(dt) * Z\n",
    "    prices = S0 * np.cumprod(1 + returns, axis=1)\n",
    "\n",
    "    ST = prices[:, -1]\n",
    "\n",
    "    barrier_breached = np.any(prices >= barrier_price, axis=1)\n",
    "\n",
    "    if option_type == 'call':\n",
    "\n",
    "        payoff_barrier = np.where(~barrier_breached, np.maximum(ST - K, 0), 0 )\n",
    "\n",
    "        # Payoff opcion sin barrera\n",
    "        payoff_plain = np.maximum(ST - K, 0)\n",
    "\n",
    "    elif option_type == 'put':\n",
    "\n",
    "        payoff_barrier = np.where(~barrier_breached, np.maximum(K - ST, 0), 0 )\n",
    "        # Payoff opcion sin barrera\n",
    "        payoff_plain = np.maximum(K - ST, 0)\n",
    "\n",
    "    price_barrier = np.exp(-r * T) * np.mean(payoff_barrier)\n",
    "    price_plain = np.exp(-r * T) * np.mean(payoff_plain)\n",
    "    price_difference = price_plain - price_barrier\n",
    "\n",
    "    return {\n",
    "        'S0': S0\n",
    "        ,'price_plain': price_plain\n",
    "        ,'price_barrier': price_barrier\n",
    "        ,'price_difference': price_difference\n",
    "        }"
   ]
  },
  {
   "cell_type": "code",
   "execution_count": 33,
   "metadata": {},
   "outputs": [
    {
     "name": "stderr",
     "output_type": "stream",
     "text": [
      "[*********************100%***********************]  1 of 1 completed\n"
     ]
    },
    {
     "data": {
      "text/plain": [
       "(561.1220092773438, 39.23939447892514)"
      ]
     },
     "execution_count": 33,
     "metadata": {},
     "output_type": "execute_result"
    }
   ],
   "source": [
    "price_barrier_option( 'put', 'SPY', 620, 744)"
   ]
  },
  {
   "cell_type": "markdown",
   "metadata": {},
   "source": [
    "Con K y option_type fijo, para barrier price desde 1`*`K  hasta 1.2`*`K. Grafica el precio de las opciones con y sin barrera."
   ]
  },
  {
   "cell_type": "code",
   "execution_count": 34,
   "metadata": {},
   "outputs": [
    {
     "name": "stderr",
     "output_type": "stream",
     "text": [
      "[*********************100%***********************]  1 of 1 completed\n",
      "[*********************100%***********************]  1 of 1 completed\n",
      "[*********************100%***********************]  1 of 1 completed\n",
      "[*********************100%***********************]  1 of 1 completed\n",
      "[*********************100%***********************]  1 of 1 completed\n",
      "[*********************100%***********************]  1 of 1 completed\n",
      "[*********************100%***********************]  1 of 1 completed\n",
      "[*********************100%***********************]  1 of 1 completed\n",
      "[*********************100%***********************]  1 of 1 completed\n",
      "[*********************100%***********************]  1 of 1 completed\n",
      "[*********************100%***********************]  1 of 1 completed\n",
      "[*********************100%***********************]  1 of 1 completed\n",
      "[*********************100%***********************]  1 of 1 completed\n",
      "[*********************100%***********************]  1 of 1 completed\n",
      "[*********************100%***********************]  1 of 1 completed\n",
      "[*********************100%***********************]  1 of 1 completed\n",
      "[*********************100%***********************]  1 of 1 completed\n",
      "[*********************100%***********************]  1 of 1 completed\n",
      "[*********************100%***********************]  1 of 1 completed\n",
      "[*********************100%***********************]  1 of 1 completed\n"
     ]
    },
    {
     "data": {
      "text/plain": [
       "<matplotlib.legend.Legend at 0x22f23348790>"
      ]
     },
     "execution_count": 34,
     "metadata": {},
     "output_type": "execute_result"
    },
    {
     "data": {
      "image/png": "[encoded data removed]",
      "text/plain": [
       "<Figure size 1000x600 with 1 Axes>"
      ]
     },
     "metadata": {},
     "output_type": "display_data"
    }
   ],
   "source": [
    "barrier_prices = np.linspace(620, 1.2 * 620, 20)\n",
    "\n",
    "\n",
    "price_barriers = []\n",
    "price_plains = []\n",
    "\n",
    "for barrier_price in barrier_prices:\n",
    "    result = price_barrier_option_vectorizado('put', 'SPY', 620, barrier_price)\n",
    "    price_b = result['price_barrier']\n",
    "    price_p = result['price_plain']\n",
    "    price_barriers.append(price_b) \n",
    "    price_plains.append(price_p) \n",
    "\n",
    "\n",
    "plt.figure(figsize=(10, 6))\n",
    "plt.plot(barrier_prices, price_barriers, label='Precio Opción con Barrera', color='blue')\n",
    "plt.plot(barrier_prices, price_plains, label='Precio Opción Sin Barrera', color='red', linestyle='--')\n",
    "plt.xlabel('Precio Barrera')\n",
    "plt.ylabel('Precio de la Opción')\n",
    "plt.title('Comparación de Precio de Opción con y Sin Barrera')\n",
    "plt.legend()"
   ]
  },
  {
   "cell_type": "markdown",
   "metadata": {},
   "source": [
    "Compara el tiempo de cómputo para 1M de simulaciones entre la opción vectorizada y no vectorizada"
   ]
  },
  {
   "cell_type": "markdown",
   "metadata": {},
   "source": [
    "#### No vectorizado"
   ]
  },
  {
   "cell_type": "code",
   "execution_count": 35,
   "metadata": {},
   "outputs": [
    {
     "name": "stderr",
     "output_type": "stream",
     "text": [
      "[*********************100%***********************]  1 of 1 completed\n"
     ]
    },
    {
     "data": {
      "text/plain": [
       "42.031067848205566"
      ]
     },
     "execution_count": 35,
     "metadata": {},
     "output_type": "execute_result"
    }
   ],
   "source": [
    "start_time = time.time()\n",
    "price_barrier_option('put', 'SPY', 620, 630)\n",
    "end_time = time.time()\n",
    "tiempo= end_time-   start_time\n",
    "tiempo\n"
   ]
  },
  {
   "cell_type": "code",
   "execution_count": 36,
   "metadata": {},
   "outputs": [
    {
     "name": "stderr",
     "output_type": "stream",
     "text": [
      "[*********************100%***********************]  1 of 1 completed\n"
     ]
    },
    {
     "data": {
      "text/plain": [
       "1.28078031539917"
      ]
     },
     "execution_count": 36,
     "metadata": {},
     "output_type": "execute_result"
    }
   ],
   "source": [
    "start_time = time.time()\n",
    "price_barrier_option_vectorizado('put', 'SPY', 620, 630)\n",
    "end_time = time.time()\n",
    "tiempo= end_time-   start_time\n",
    "tiempo\n"
   ]
  }
 ],
 "metadata": {
  "kernelspec": {
   "display_name": "base",
   "language": "python",
   "name": "python3"
  },
  "language_info": {
   "codemirror_mode": {
    "name": "ipython",
    "version": 3
   },
   "file_extension": ".py",
   "mimetype": "text/x-python",
   "name": "python",
   "nbconvert_exporter": "python",
   "pygments_lexer": "ipython3",
   "version": "3.11.4"
  }
 },
 "nbformat": 4,
 "nbformat_minor": 2
}
