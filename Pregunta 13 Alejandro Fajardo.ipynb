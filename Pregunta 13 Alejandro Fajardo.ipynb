{
 "cells": [
  {
   "cell_type": "markdown",
   "id": "e6bb3f77",
   "metadata": {},
   "source": [
    "## Pregunta 13"
   ]
  },
  {
   "cell_type": "code",
   "execution_count": 1,
   "id": "871843ce",
   "metadata": {},
   "outputs": [],
   "source": [
    "import yfinance as yf\n",
    "import numpy as np\n",
    "import pandas as pd\n",
    "import matplotlib.pyplot as plt"
   ]
  },
  {
   "cell_type": "code",
   "execution_count": 2,
   "id": "aae6c75f",
   "metadata": {},
   "outputs": [],
   "source": [
    "def get_data(stocks, start, end):\n",
    "    prices = yf.download(stocks, start, end, progress = False)[\"Close\"]\n",
    "    returns = prices.pct_change().dropna()\n",
    "    mean_returns = returns.mean()\n",
    "    matriz_cov = returns.cov()\n",
    "    return mean_returns, matriz_cov, prices"
   ]
  },
  {
   "cell_type": "code",
   "execution_count": 3,
   "id": "37c2f293",
   "metadata": {},
   "outputs": [
    {
     "name": "stdout",
     "output_type": "stream",
     "text": [
      "YF.download() has changed argument auto_adjust default to True\n"
     ]
    }
   ],
   "source": [
    "stocks = ['MA','PEP']\n",
    "weights = [0.5,0.5]\n",
    "start = '2022-03-10'\n",
    "end = '2025-03-10'\n",
    "mean_returns, matriz_cov, prices = get_data(stocks, start, end )"
   ]
  },
  {
   "cell_type": "markdown",
   "id": "8fb9d874",
   "metadata": {},
   "source": [
    "### Inciso a)"
   ]
  },
  {
   "cell_type": "code",
   "execution_count": 4,
   "id": "f8c67a26",
   "metadata": {},
   "outputs": [
    {
     "data": {
      "text/plain": [
       "Ticker\n",
       "MA     0.000812\n",
       "PEP    0.000166\n",
       "dtype: float64"
      ]
     },
     "execution_count": 4,
     "metadata": {},
     "output_type": "execute_result"
    }
   ],
   "source": [
    "mean_returns"
   ]
  },
  {
   "cell_type": "markdown",
   "id": "57d85661",
   "metadata": {},
   "source": [
    "Con los rendimientos medios diarios por acción podemos observar que ambos activos tuvieron un rendimiento positivo durante los ultmos tres años transcurridos. Por el lado de Master Card, este tuvo un rendimiento promedio de 0.08% mientras que Pepsi tuvo un rendimineto promedio de 0.01%. A pesar de que los dos son rendimientos no muy altos, si se puede entender que los dos lograron mantener un rendimiento posistivo durante estos tres años, y si bien pudieron tener subidas y bajdas, desde el 2022 hasta el día de hoy, lograron mantener su valor y no tener pérdidas significastivas reflejadas en su rendimiento. "
   ]
  },
  {
   "cell_type": "markdown",
   "id": "c02dba7f",
   "metadata": {},
   "source": [
    " ### Inciso b)"
   ]
  },
  {
   "cell_type": "code",
   "execution_count": 5,
   "id": "d5ac3bcf",
   "metadata": {},
   "outputs": [
    {
     "data": {
      "text/html": [
       "<div>\n",
       "<style scoped>\n",
       "    .dataframe tbody tr th:only-of-type {\n",
       "        vertical-align: middle;\n",
       "    }\n",
       "\n",
       "    .dataframe tbody tr th {\n",
       "        vertical-align: top;\n",
       "    }\n",
       "\n",
       "    .dataframe thead th {\n",
       "        text-align: right;\n",
       "    }\n",
       "</style>\n",
       "<table border=\"1\" class=\"dataframe\">\n",
       "  <thead>\n",
       "    <tr style=\"text-align: right;\">\n",
       "      <th>Ticker</th>\n",
       "      <th>MA</th>\n",
       "      <th>PEP</th>\n",
       "    </tr>\n",
       "    <tr>\n",
       "      <th>Ticker</th>\n",
       "      <th></th>\n",
       "      <th></th>\n",
       "    </tr>\n",
       "  </thead>\n",
       "  <tbody>\n",
       "    <tr>\n",
       "      <th>MA</th>\n",
       "      <td>0.000186</td>\n",
       "      <td>0.000053</td>\n",
       "    </tr>\n",
       "    <tr>\n",
       "      <th>PEP</th>\n",
       "      <td>0.000053</td>\n",
       "      <td>0.000121</td>\n",
       "    </tr>\n",
       "  </tbody>\n",
       "</table>\n",
       "</div>"
      ],
      "text/plain": [
       "Ticker        MA       PEP\n",
       "Ticker                    \n",
       "MA      0.000186  0.000053\n",
       "PEP     0.000053  0.000121"
      ]
     },
     "execution_count": 5,
     "metadata": {},
     "output_type": "execute_result"
    }
   ],
   "source": [
    "matriz_cov"
   ]
  },
  {
   "cell_type": "markdown",
   "id": "f1af36df",
   "metadata": {},
   "source": [
    "Con la matriz de covarianza podemos ver si es que existe una relación entre los activos y como es que es esta relación, para que partir de eso, se puedan tomar decisiones respecto a la relación obtenida. En este caso, al tener MA y Pepsi un valor de 0.000053, significa que esta muy cercano al 0, indicandonos que en realidad existe una relación casi nula entre los dos activos, por lo cual, se puede decir que el movimiento de uno no afecta para nada el movimiento que tenga el otro activo"
   ]
  },
  {
   "cell_type": "markdown",
   "id": "89931546",
   "metadata": {},
   "source": [
    "### Inciso c) "
   ]
  },
  {
   "cell_type": "code",
   "execution_count": 6,
   "id": "32f281ff",
   "metadata": {},
   "outputs": [],
   "source": [
    "def simular_precios(mean_returns, matriz_cov, prices, num_dias, stocks, weights):\n",
    "\n",
    "    N = 1000\n",
    "    portfolio_return = mean_returns.dot(weights)\n",
    "    portfolio_simulated_returns = np.full( shape=(num_dias, N), fill_value=0.0 )\n",
    "    mean_returns = np.full( shape=(num_dias, len(stocks)), fill_value=portfolio_return )\n",
    "    \n",
    "    for m in range(N):\n",
    "        L = np.linalg.cholesky(matriz_cov)\n",
    "        Z = np.random.normal( size = (num_dias, len(stocks)) )\n",
    "        daily_returns = mean_returns.T + L.dot(Z.T)\n",
    "        portfolio_simulated_returns[:,m] =  np.cumprod( np.dot( weights , daily_returns) + 1 )\n",
    "\n",
    "    return portfolio_simulated_returns"
   ]
  },
  {
   "cell_type": "code",
   "execution_count": 7,
   "id": "f76234d9",
   "metadata": {},
   "outputs": [],
   "source": [
    "num_dias = 30\n",
    "portafolios_simulados = simular_precios(mean_returns, matriz_cov, prices, 7, stocks,weights)"
   ]
  },
  {
   "cell_type": "code",
   "execution_count": 8,
   "id": "76a6070f",
   "metadata": {},
   "outputs": [
    {
     "data": {
      "text/html": [
       "<div>\n",
       "<style scoped>\n",
       "    .dataframe tbody tr th:only-of-type {\n",
       "        vertical-align: middle;\n",
       "    }\n",
       "\n",
       "    .dataframe tbody tr th {\n",
       "        vertical-align: top;\n",
       "    }\n",
       "\n",
       "    .dataframe thead th {\n",
       "        text-align: right;\n",
       "    }\n",
       "</style>\n",
       "<table border=\"1\" class=\"dataframe\">\n",
       "  <thead>\n",
       "    <tr style=\"text-align: right;\">\n",
       "      <th></th>\n",
       "      <th>Valor maximo</th>\n",
       "      <th>Valor minimo</th>\n",
       "    </tr>\n",
       "  </thead>\n",
       "  <tbody>\n",
       "    <tr>\n",
       "      <th>Portafolios</th>\n",
       "      <td>10904.205573</td>\n",
       "      <td>9075.040779</td>\n",
       "    </tr>\n",
       "  </tbody>\n",
       "</table>\n",
       "</div>"
      ],
      "text/plain": [
       "             Valor maximo  Valor minimo\n",
       "Portafolios  10904.205573   9075.040779"
      ]
     },
     "execution_count": 8,
     "metadata": {},
     "output_type": "execute_result"
    }
   ],
   "source": [
    "max_r = np.max(portafolios_simulados[-1])\n",
    "min_r = np.min(portafolios_simulados[-1])\n",
    "\n",
    "values = pd.DataFrame({\n",
    "    'Valor maximo' : max_r*10000,\n",
    "    'Valor minimo' : min_r*10000,\n",
    "}, index =['Portafolios'])\n",
    "\n",
    "values"
   ]
  },
  {
   "cell_type": "markdown",
   "id": "51523bc3",
   "metadata": {},
   "source": [
    "### Inciso d)"
   ]
  },
  {
   "cell_type": "code",
   "execution_count": 9,
   "id": "c46e3c7f",
   "metadata": {},
   "outputs": [
    {
     "data": {
      "text/plain": [
       "-0.062405354674249146"
      ]
     },
     "execution_count": 9,
     "metadata": {},
     "output_type": "execute_result"
    }
   ],
   "source": [
    "VaR = np.percentile(portafolios_simulados[-1]-1, 1)\n",
    "VaR"
   ]
  },
  {
   "cell_type": "markdown",
   "id": "102d0258",
   "metadata": {},
   "source": [
    "El VaR nos muestra que es del 0.06. Esto quiere decir que a 30 días al 1%, se tiene el riesgo de que tu portafolio tenga una perdida de 6.2% en el periodo de tiempo que se especifico. "
   ]
  },
  {
   "cell_type": "markdown",
   "id": "f8cf606f",
   "metadata": {},
   "source": [
    "### Inciso e)"
   ]
  },
  {
   "cell_type": "code",
   "execution_count": 10,
   "id": "df5b57b0",
   "metadata": {},
   "outputs": [
    {
     "data": {
      "image/png": "[encoded data removed]",
      "text/plain": [
       "<Figure size 640x480 with 1 Axes>"
      ]
     },
     "metadata": {},
     "output_type": "display_data"
    }
   ],
   "source": [
    "plt.hist((portafolios_simulados[-1]*10000), bins=20)\n",
    "plt.show()"
   ]
  },
  {
   "cell_type": "code",
   "execution_count": null,
   "id": "8d83b57b",
   "metadata": {},
   "outputs": [],
   "source": []
  }
 ],
 "metadata": {
  "kernelspec": {
   "display_name": "Python 3 (ipykernel)",
   "language": "python",
   "name": "python3"
  },
  "language_info": {
   "codemirror_mode": {
    "name": "ipython",
    "version": 3
   },
   "file_extension": ".py",
   "mimetype": "text/x-python",
   "name": "python",
   "nbconvert_exporter": "python",
   "pygments_lexer": "ipython3",
   "version": "3.11.4"
  }
 },
 "nbformat": 4,
 "nbformat_minor": 5
}
