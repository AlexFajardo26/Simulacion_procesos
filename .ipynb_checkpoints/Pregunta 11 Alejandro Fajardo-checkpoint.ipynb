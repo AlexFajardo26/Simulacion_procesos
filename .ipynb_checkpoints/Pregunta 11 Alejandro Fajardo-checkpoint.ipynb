{
 "cells": [
  {
   "cell_type": "markdown",
   "id": "025597ef",
   "metadata": {},
   "source": [
    "## Pregunta 11"
   ]
  },
  {
   "cell_type": "markdown",
   "id": "1defd0e8",
   "metadata": {},
   "source": [
    "### 10000 simulaciones"
   ]
  },
  {
   "cell_type": "code",
   "execution_count": 1,
   "id": "49246e73",
   "metadata": {},
   "outputs": [],
   "source": [
    "import random\n",
    "import numpy as np\n",
    "import matplotlib.pyplot as plt\n",
    "np.random.seed(1234)"
   ]
  },
  {
   "cell_type": "code",
   "execution_count": 2,
   "id": "e7ebeee8",
   "metadata": {},
   "outputs": [],
   "source": [
    "resultados = []\n",
    "\n",
    "for i in range(10000):\n",
    "    dado_1 = np.random.randint(1,7)\n",
    "    dado_2 = np.random.randint(1,7)\n",
    "    suma = dado_1 + dado_2\n",
    "    resultados.append(suma)\n"
   ]
  },
  {
   "cell_type": "code",
   "execution_count": 3,
   "id": "2190a92c",
   "metadata": {},
   "outputs": [
    {
     "data": {
      "text/plain": [
       "0.0547"
      ]
     },
     "execution_count": 3,
     "metadata": {},
     "output_type": "execute_result"
    }
   ],
   "source": [
    "probabilidad = resultados.count(11)/len(resultados)\n",
    "probabilidad"
   ]
  },
  {
   "cell_type": "markdown",
   "id": "57ce819f",
   "metadata": {},
   "source": [
    "La probabilidad de que la suma de los valores de arrojar dos dados con la simulación montecarlo sea de 11 es de 5.73%"
   ]
  },
  {
   "cell_type": "code",
   "execution_count": 4,
   "id": "6805ed2f",
   "metadata": {},
   "outputs": [
    {
     "data": {
      "text/plain": [
       "0.05555555555555555"
      ]
     },
     "execution_count": 4,
     "metadata": {},
     "output_type": "execute_result"
    }
   ],
   "source": [
    "### Probabilidad teorica\n",
    "prob = 2/36\n",
    "prob"
   ]
  },
  {
   "cell_type": "markdown",
   "id": "2ace623c",
   "metadata": {},
   "source": [
    "#### ¿Cómo se compará?\n"
   ]
  },
  {
   "cell_type": "markdown",
   "id": "72eab7cb",
   "metadata": {},
   "source": [
    "Tras haber obtenido la probabilidad empírica y la teórica, nos podemos dar cuenta de que es bastante similar, obteniendo un valor muy parecido entre lo que se dice que tiene que ser a lo que en realidad sucede, siendo los dos valores muy parecidos uno de 5.5% y el otro de 5.47%, entendiendo que empíricamente, si se asemeja mucho a la teoria de la probabilidad de que la suma sea 11 al arrojar dos dados."
   ]
  },
  {
   "cell_type": "markdown",
   "id": "b103a4db",
   "metadata": {},
   "source": [
    "#### Histograma "
   ]
  },
  {
   "cell_type": "code",
   "execution_count": 5,
   "id": "b5a9a0dd",
   "metadata": {},
   "outputs": [
    {
     "data": {
      "image/png": "[encoded data removed]",
      "text/plain": [
       "<Figure size 640x480 with 1 Axes>"
      ]
     },
     "metadata": {},
     "output_type": "display_data"
    }
   ],
   "source": [
    "plt.hist(resultados, bins=11)\n",
    "plt.show()"
   ]
  },
  {
   "cell_type": "markdown",
   "id": "b08715b2",
   "metadata": {},
   "source": [
    "### 100 simulaciones"
   ]
  },
  {
   "cell_type": "code",
   "execution_count": 6,
   "id": "65d1c088",
   "metadata": {},
   "outputs": [],
   "source": [
    "np.random.seed(1234)"
   ]
  },
  {
   "cell_type": "code",
   "execution_count": 7,
   "id": "4d3683e5",
   "metadata": {},
   "outputs": [],
   "source": [
    "resultados_100 = []\n",
    "\n",
    "for i in range(100):\n",
    "    dado_1 = np.random.randint(1,7)\n",
    "    dado_2 = np.random.randint(1,7)\n",
    "    suma = dado_1 + dado_2\n",
    "    resultados_100.append(suma)"
   ]
  },
  {
   "cell_type": "code",
   "execution_count": 8,
   "id": "95cff088",
   "metadata": {},
   "outputs": [
    {
     "data": {
      "text/plain": [
       "0.06"
      ]
     },
     "execution_count": 8,
     "metadata": {},
     "output_type": "execute_result"
    }
   ],
   "source": [
    "probabilidad_100 = resultados_100.count(11)/len(resultados_100)\n",
    "probabilidad_100"
   ]
  },
  {
   "cell_type": "markdown",
   "id": "afec2c86",
   "metadata": {},
   "source": [
    "La probabilidad de obtener 11 al arrojar dos dados con 100 simulaciones usando Montecarlo, es de 6%"
   ]
  },
  {
   "cell_type": "markdown",
   "id": "19969f23",
   "metadata": {},
   "source": [
    "#### Histograma"
   ]
  },
  {
   "cell_type": "code",
   "execution_count": 9,
   "id": "8221d2ad",
   "metadata": {},
   "outputs": [
    {
     "data": {
      "image/png": "[encoded data removed]",
      "text/plain": [
       "<Figure size 640x480 with 1 Axes>"
      ]
     },
     "metadata": {},
     "output_type": "display_data"
    }
   ],
   "source": [
    "plt.hist(resultados_100, bins=11)\n",
    "plt.show()"
   ]
  },
  {
   "cell_type": "markdown",
   "id": "3f15fc1d",
   "metadata": {},
   "source": [
    "### Diferencias"
   ]
  },
  {
   "cell_type": "markdown",
   "id": "992bc223",
   "metadata": {},
   "source": [
    "Tras haber hecho las dos simulaciones, podemos ver que con 10000 simulaciones la probabilidad es mucho más precisa a la teorica que la de 100 simulaciones. De misma forma, podemos ver en los histogramas, que con 10000 simulaciones este histograma se ve más como uan distribución normal, a comparación de la de 100 simulaciones. Todo esto nos indica que si bien las dos nos puede dar un resultado aproximado, mientras más simulaciones se realizen, el resultado tiende a ser más preciso."
   ]
  }
 ],
 "metadata": {
  "kernelspec": {
   "display_name": "Python 3 (ipykernel)",
   "language": "python",
   "name": "python3"
  },
  "language_info": {
   "codemirror_mode": {
    "name": "ipython",
    "version": 3
   },
   "file_extension": ".py",
   "mimetype": "text/x-python",
   "name": "python",
   "nbconvert_exporter": "python",
   "pygments_lexer": "ipython3",
   "version": "3.11.4"
  }
 },
 "nbformat": 4,
 "nbformat_minor": 5
}
