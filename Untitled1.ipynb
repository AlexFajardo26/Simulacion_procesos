{
 "cells": [
  {
   "cell_type": "code",
   "execution_count": 4,
   "id": "5b4c3828",
   "metadata": {},
   "outputs": [],
   "source": [
    "import random\n",
    "import numpy as np\n",
    "import matplotlib.pyplot as plt\n",
    "np.random.seed(333)"
   ]
  },
  {
   "cell_type": "code",
   "execution_count": 5,
   "id": "49108f6e",
   "metadata": {},
   "outputs": [],
   "source": [
    "resultados = []\n",
    "\n",
    "for i in range(10000):\n",
    "    dado_1 = np.random.randint(1,7)\n",
    "    dado_2 = np.random.randint(1,7)\n",
    "    suma = dado_1 + dado_2\n",
    "    resultados.append(suma)"
   ]
  },
  {
   "cell_type": "code",
   "execution_count": 6,
   "id": "774799a3",
   "metadata": {},
   "outputs": [
    {
     "data": {
      "text/plain": [
       "0.0578"
      ]
     },
     "execution_count": 6,
     "metadata": {},
     "output_type": "execute_result"
    }
   ],
   "source": [
    "probabilidad = resultados.count(11)/len(resultados)\n",
    "probabilidad"
   ]
  }
 ],
 "metadata": {
  "kernelspec": {
   "display_name": "Python 3 (ipykernel)",
   "language": "python",
   "name": "python3"
  },
  "language_info": {
   "codemirror_mode": {
    "name": "ipython",
    "version": 3
   },
   "file_extension": ".py",
   "mimetype": "text/x-python",
   "name": "python",
   "nbconvert_exporter": "python",
   "pygments_lexer": "ipython3",
   "version": "3.11.4"
  }
 },
 "nbformat": 4,
 "nbformat_minor": 5
}
