{
 "cells": [
  {
   "cell_type": "markdown",
   "id": "72fffca8",
   "metadata": {},
   "source": [
    "### ¿Qué es una opción de barrera?\n",
    "\n",
    "Una opción de barrera es un tipo de derivado cuyo pago depende de si el activo subyacente ha alcanzado o superado un precio predeterminado.\n",
    "\n",
    "Las opciones de barrera se consideran opciones exóticas porque son más complejas que las opciones americanas o europeas básicas. Las opciones de barrera también se consideran un tipo de opción dependiente del camino (_path-dependent_). **Cuando se dice que una opción es path dependent, significa que el valor de la opción depende no solo del precio actual del activo subyacente, sino también de la trayectoria que ha seguido ese precio hasta ese momento.**\n",
    "\n",
    "\n",
    "#### Clasificación\n",
    "\n",
    "Las opciones de barrera suelen clasificarse como:\n",
    "- Knock-in\n",
    "- Knock-out\n",
    "\n",
    "##### Opciones de barrera knock-in\n",
    "\n",
    "Una opción **knock-in** es un tipo de opción de barrera en la que los derechos asociados con esa opción solo entran en existencia cuando el precio del valor subyacente alcanza una barrera especificada durante la vida de la opción. Una vez que se activa una barrera, o entra en existencia, la opción permanece en existencia hasta que expire.\n",
    "\n",
    "Las opciones knock-in pueden clasificarse como up-and-in o down-and-in. En una opción de barrera knock-in up-and-in, la opción solo entra en existencia si el precio del activo subyacente sube por encima de la barrera preespecificada, que se establece por encima del precio inicial del subyacente. Por el contrario, una opción de barrera knock-in down-and-in solo entra en existencia cuando el precio del activo subyacente se mueve por debajo de una barrera preestablecida que se establece por debajo del precio inicial del subyacente.\n",
    "\n",
    "##### Opciones de barrera knock-out\n",
    "\n",
    "A diferencia de las opciones de barrera knock-in, las opciones de barrera **knock-out** dejan de existir si el activo subyacente alcanza una barrera durante la vida de la opción. Las opciones de barrera knock-out pueden clasificarse como up-and-out o down-and-out. Una opción de barrera knock-out up-and-out deja de existir cuando el valor subyacente se mueve por encima de una barrera que se establece por encima del precio inicial del subyacente. Una opción de barrera knock-out down-and-out deja de existir cuando el activo subyacente se mueve por debajo de una barrera que se establece por debajo del precio inicial del subyacente. Si un activo subyacente alcanza la barrera en cualquier momento durante la vida de la opción, la opción se anula o se termina.\n",
    "\n",
    "**Otros tipos de opciones de barrera**\n",
    "\n",
    "Son posibles aunque menos comunes otras variantes de las opciones de barrera descritas anteriormente, por ejemplo:\n",
    "\n",
    "- Opciones de barrera con reembolso: tanto las opciones de barrera knock-out como las knock-in pueden contener una provisión para proporcionar reembolsos a los titulares si la opción no alcanza el precio de barrera y se vuelve sin valor. Tales opciones se conocen como opciones de barrera de reembolso. Los reembolsos, en tales casos, toman la forma de un porcentaje de la prima pagada por el titular por la opción.\n",
    "\n",
    "- Opción parisina: en una opción parisina, alcanzar el precio de barrera no desencadena el contrato. En su lugar, el precio del activo subyacente tiene que pasar una cantidad predefinida de tiempo más allá del precio de barrera de activación para que el contrato entre en vigor. La cantidad de tiempo que el precio del activo subyacente pasa fuera y dentro del rango de precios de barrera se mide en este tipo de opción.\n",
    "\n",
    "##### ¿Por qué existen las opciones de barrera?\n",
    "\n",
    "Las opciones de barrera existen porque proporcionan a los inversores una forma de personalizar el riesgo y el rendimiento de sus inversiones en función de las expectativas de movimiento de precios del activo subyacente.\n",
    "\n",
    "Las opciones de barrera permiten a los inversores establecer umbrales de precios específicos, conocidos como \"barreras\", que, si se alcanzan, pueden activar o desactivar la opción. Esto significa que los inversores pueden usar opciones de barrera para establecer objetivos específicos de precios, limitar su exposición a ciertos movimientos de precios o crear estrategias de cobertura más precisas.\n",
    "\n",
    "Por ejemplo, un inversor que posee una acción puede usar una opción de barrera knock-out para limitar sus pérdidas si el precio de la acción cae por debajo de cierto nivel. Si el precio de la acción cae por debajo de la barrera establecida, la opción se activa y el inversor recibe un pago, lo que ayuda a compensar las pérdidas en la acción subyacente.\n",
    "\n",
    "De manera similar, los inversores pueden usar opciones de barrera knock-in para establecer objetivos de precios específicos en los que desean adquirir o vender una acción, o para protegerse contra ciertos movimientos de precios que pueden ser desfavorables para su posición.\n",
    "\n",
    "En general, las opciones de barrera proporcionan a los inversores una forma más flexible de personalizar su exposición al riesgo y recompensa en función de sus expectativas de precios y estrategias de inversión.\n",
    "\n",
    "##### Ejemplos de opciones de barrera\n",
    "Aquí hay dos ejemplos de opciones de barrera descritas anteriormente.\n",
    "\n",
    "**Opción de barrera knock-in**\n",
    "Supongamos que un inversor compra una opción de compra arriba y adentro con un precio de ejercicio de 60 y una barrera de 65, cuando la acción subyacente cotiza a 55. La opción no entrará en existencia hasta que el precio de la acción subyacente supere los 65. Mientras que el inversor paga por la opción y la potencialidad de que pueda ser valiosa, la opción solo se aplica si el subyacente alcanza los 65. Si no lo hace, la opción nunca se activa y el comprador de la opción pierde lo que pagó por la opción.\n",
    "\n",
    "**Opción de barrera knock-out**\n",
    "Supongamos que alguien compró una opción put up-and-out con una barrera de 25 y un precio de ejercicio de 20, cuando el valor subyacente cotizaba a 18. El valor subyacente sube por encima de 25 durante la vida de la opción y, por lo tanto, la opción deja de existir. La opción ahora no tiene valor, incluso si solo tocó 25 brevemente y luego volvió a bajar por debajo."
   ]
  }
 ],
 "metadata": {
  "kernelspec": {
   "display_name": "Python 3 (ipykernel)",
   "language": "python",
   "name": "python3"
  },
  "language_info": {
   "codemirror_mode": {
    "name": "ipython",
    "version": 3
   },
   "file_extension": ".py",
   "mimetype": "text/x-python",
   "name": "python",
   "nbconvert_exporter": "python",
   "pygments_lexer": "ipython3",
   "version": "3.9.7"
  }
 },
 "nbformat": 4,
 "nbformat_minor": 5
}
