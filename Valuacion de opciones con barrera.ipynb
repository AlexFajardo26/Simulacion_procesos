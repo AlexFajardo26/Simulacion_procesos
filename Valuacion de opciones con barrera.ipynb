{
 "cells": [
  {
   "cell_type": "code",
   "execution_count": 1,
   "metadata": {},
   "outputs": [
    {
     "name": "stdout",
     "output_type": "stream",
     "text": [
      "YF.download() has changed argument auto_adjust default to True\n"
     ]
    },
    {
     "name": "stderr",
     "output_type": "stream",
     "text": [
      "[*********************100%***********************]  1 of 1 completed\n"
     ]
    }
   ],
   "source": [
    "import numpy as np\n",
    "import pandas as pd\n",
    "import matplotlib.pyplot as plt\n",
    "import yfinance as yf\n",
    "\n",
    "option_type = 'call'\n",
    "ticker = 'SPY'\n",
    "data = yf.download(ticker, start='2022-01-01', end='2025-03-15')['Close']['SPY']\n",
    "\n",
    "daily_returns = data.pct_change().dropna()\n",
    "\n",
    "## PARAMETROS\n",
    "\n",
    "#Precio Spot\n",
    "S0 = data.iloc[-1]\n",
    "sigma = daily_returns.std() * np.sqrt(252)\n",
    "\n",
    "# Tasa libre de riesgo\n",
    "r = 0.10\n",
    "\n",
    "# Días al vencimiento\n",
    "T = 252\n",
    "dt = 1 / T\n",
    "\n",
    "K = 650\n",
    "\n",
    "num_simulations = 100\n",
    "\n",
    "# Choques aleatorios para rendimientos del subyacente\n",
    "Z = np.random.normal(0, 1, (num_simulations, T ) )\n",
    "\n",
    "# Matriz de precios simulados del subyacente\n",
    "# N filas X Pasos + 1 (Por S0)\n",
    "price_matrix = np.zeros( (num_simulations, T + 1 ) )\n",
    "\n",
    "## PRICING\n",
    "\n",
    "barrier_price = S0 * 1.2\n",
    "\n",
    "for i in range (num_simulations):\n",
    "\n",
    "    #Inicio de la trayectoria simulada\n",
    "    price_path = [S0]\n",
    "    barrier_breached = False\n",
    "\n",
    "    for dia in range(1, T+1):\n",
    "        St = price_path[-1] * np.exp((r - 0.5 * sigma ** 2) * dt + sigma * np.sqrt(dt) * Z[i, dia - 1])\n",
    "        price_path.append(St)\n",
    "\n",
    "        # Para este ejemplo, si ST es mayor a la barrera:\n",
    "        # Es una opción up- and ....\n",
    "        if St > barrier_price:\n",
    "            barrier_breached = True\n",
    "            break\n",
    "\n",
    "    # Como si se alcanza la barrera, el precio es 0\n",
    "    # Es una opción up-and-out\n",
    "    if barrier_breached:\n",
    "        price_matrix[i, :] = 0\n",
    "    else:\n",
    "        price_matrix[i, :] = price_path\n",
    "\n",
    "\n",
    "if(option_type == 'put'):\n",
    "    price_matrix[:-1] = np.where(price_matrix[:-1] == 0, K+1, price_matrix[:-1])\n",
    "\n",
    "\n",
    "put_payoffs = np.maximum(  K - price_matrix[:-1], 0)\n",
    "put_value = np.exp(-r * T) * np.mean(put_payoffs)"
   ]
  },
  {
   "cell_type": "code",
   "execution_count": 2,
   "metadata": {},
   "outputs": [
    {
     "data": {
      "text/plain": [
       "3.5518606661249856e-09"
      ]
     },
     "execution_count": 2,
     "metadata": {},
     "output_type": "execute_result"
    }
   ],
   "source": [
    "put_value"
   ]
  }
 ],
 "metadata": {
  "kernelspec": {
   "display_name": "base",
   "language": "python",
   "name": "python3"
  },
  "language_info": {
   "codemirror_mode": {
    "name": "ipython",
    "version": 3
   },
   "file_extension": ".py",
   "mimetype": "text/x-python",
   "name": "python",
   "nbconvert_exporter": "python",
   "pygments_lexer": "ipython3",
   "version": "3.11.4"
  }
 },
 "nbformat": 4,
 "nbformat_minor": 2
}
