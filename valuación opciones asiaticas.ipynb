{
 "cells": [
  {
   "cell_type": "code",
   "execution_count": 18,
   "id": "a7fe6316",
   "metadata": {},
   "outputs": [],
   "source": [
    "import numpy as np\n",
    "import matplotlib.pyplot as plt\n",
    "import yfinance as yf\n"
   ]
  },
  {
   "cell_type": "code",
   "execution_count": 19,
   "id": "376c8e61",
   "metadata": {},
   "outputs": [
    {
     "data": {
      "text/plain": [
       "Ticker\n",
       "CL=F    61.990002\n",
       "Name: 2025-04-04 00:00:00, dtype: float64"
      ]
     },
     "execution_count": 19,
     "metadata": {},
     "output_type": "execute_result"
    }
   ],
   "source": [
    "ticker = 'CL=F'\n",
    "\n",
    "data = yf.download(ticker, start='2022-01-01', end='2025-04-07', progress=False)\n",
    "close_prices = data['Close']\n",
    "\n",
    "S0 = close_prices.iloc[-1]\n",
    "\n",
    "S0\n",
    "\n"
   ]
  },
  {
   "cell_type": "code",
   "execution_count": 20,
   "id": "83c1eaae",
   "metadata": {},
   "outputs": [],
   "source": [
    "returns = close_prices.pct_change().dropna()\n",
    "sigma = returns.std() * np.sqrt(252)\n",
    "T = 1\n",
    "K = 65\n",
    "num_steps = 252\n",
    "r = 0.0425\n",
    "n_sims = 10000\n",
    "dt = T / num_steps\n",
    "Z = np.random.normal(size=(n_sims, num_steps))"
   ]
  },
  {
   "cell_type": "code",
   "execution_count": 21,
   "id": "cf74c7c4",
   "metadata": {},
   "outputs": [],
   "source": [
    "def simulate_prices(S0, r, sigma, T, num_steps, n_sims):\n",
    "    dt = T / num_steps\n",
    "    Z = np.random.normal(size=(n_sims, num_steps)) ## parámetros estándar : 0 y 1\n",
    "    simulated_returns = (r - 0.5 * sigma.iloc[0]**2) * dt + sigma.iloc[0] * np.sqrt(dt) * Z\n",
    "    simulared_cumulative_returns = np.cumsum(simulated_returns, axis=1)\n",
    "    simulated_prices = S0.iloc[0] * np.exp(simulared_cumulative_returns)\n",
    "    return simulated_prices\n",
    "\n",
    "\n",
    "def get_price__fixed_strike__average_price(simulated_prices, K, r, T, option_type):\n",
    "    avg_prices = np.mean(simulated_prices[:, 1:], axis=1)\n",
    "\n",
    "    if option_type == 'call':\n",
    "        payoffs = np.maximum(avg_prices - K, 0)\n",
    "    elif option_type == 'put':\n",
    "        payoffs = np.maximum(K - avg_prices, 0)\n",
    "\n",
    "    option_price =  np.exp(-r * T) * np.mean(payoffs)\n",
    "\n",
    "    return option_price\n",
    "\n",
    "\n",
    "\n",
    "def get_price__floating_strike__average_price(simulated_prices, St, r, T, option_type):\n",
    "    avg_prices = np.mean(simulated_prices[:, 1:], axis=1)\n",
    "    if option_type == 'call':\n",
    "        payoffs = np.maximum(avg_prices - St, 0)\n",
    "    elif option_type == 'put':\n",
    "        payoffs = np.maximum(St - avg_prices, 0)\n",
    "    option_price =  np.exp(-r * T) * np.mean(payoffs)\n",
    "\n",
    "    return option_price\n",
    "\n",
    "def get_price__fixed_strike__geometric_price(simulated_prices, K, r, T, option_type):\n",
    "    geometric_prices = np.exp(np.mean(np.log(simulated_prices[:, 1:]), axis=1))\n",
    "    if option_type == 'call':\n",
    "        payoffs = np.maximum(geometric_prices - K, 0)\n",
    "    elif option_type == 'put':\n",
    "        payoffs = np.maximum(K - geometric_prices, 0)\n",
    "    option_price =  np.exp(-r * T) * np.mean(payoffs)\n",
    "\n",
    "    return option_price\n",
    "\n",
    "def get_price__floating_strike__geometric_price(simulated_prices, St, r, T, option_type):\n",
    "    geometric_prices = np.exp(np.mean(np.log(simulated_prices[:, 1:]), axis=1))\n",
    "    if option_type == 'call':\n",
    "        payoffs = np.maximum(geometric_prices - St, 0)\n",
    "    elif option_type == 'put':\n",
    "        payoffs = np.maximum(St - geometric_prices, 0)\n",
    "    option_price =  np.exp(-r * T) * np.mean(payoffs)\n",
    "\n",
    "    return option_price\n",
    "\n",
    "\n",
    "def get_price__european(simulated_prices, K, r, T, option_type):\n",
    "    St = simulated_prices[:, -1]\n",
    "    if option_type == 'call':\n",
    "        payoffs = np.maximum(St - K, 0)\n",
    "    elif option_type == 'put':\n",
    "        payoffs = np.maximum(K - St, 0)\n",
    "    option_price =  np.exp(-r * T) * np.mean(payoffs)\n",
    "\n",
    "    return option_price    \n"
   ]
  },
  {
   "cell_type": "code",
   "execution_count": 24,
   "id": "e79b9700",
   "metadata": {},
   "outputs": [
    {
     "data": {
      "text/plain": [
       "4.440908299441257"
      ]
     },
     "execution_count": 24,
     "metadata": {},
     "output_type": "execute_result"
    }
   ],
   "source": [
    "simulated_prices = simulate_prices(S0, r, sigma, T, num_steps, n_sims)\n",
    "St= simulated_prices[:, -1]\n",
    "get_price__fixed_strike__average_price(simulated_prices, K, r, T, 'call')"
   ]
  },
  {
   "cell_type": "code",
   "execution_count": 26,
   "id": "aa31c957",
   "metadata": {},
   "outputs": [
    {
     "data": {
      "text/plain": [
       "4.563622766813127"
      ]
     },
     "execution_count": 26,
     "metadata": {},
     "output_type": "execute_result"
    }
   ],
   "source": [
    "get_price__floating_strike__average_price(simulated_prices, St, r, T, 'call')\n"
   ]
  },
  {
   "cell_type": "code",
   "execution_count": 27,
   "id": "a39ccd25",
   "metadata": {},
   "outputs": [
    {
     "data": {
      "text/plain": [
       "4.0733698228438335"
      ]
     },
     "execution_count": 27,
     "metadata": {},
     "output_type": "execute_result"
    }
   ],
   "source": [
    "get_price__fixed_strike__geometric_price(simulated_prices, K, r, T, 'call')\n"
   ]
  },
  {
   "cell_type": "code",
   "execution_count": 28,
   "id": "8651d295",
   "metadata": {},
   "outputs": [
    {
     "data": {
      "text/plain": [
       "4.246626610163626"
      ]
     },
     "execution_count": 28,
     "metadata": {},
     "output_type": "execute_result"
    }
   ],
   "source": [
    "get_price__floating_strike__geometric_price(simulated_prices, St, r, T, 'call')\n"
   ]
  },
  {
   "cell_type": "code",
   "execution_count": 30,
   "id": "669fdfa0",
   "metadata": {},
   "outputs": [
    {
     "data": {
      "text/plain": [
       "8.890309914610295"
      ]
     },
     "execution_count": 30,
     "metadata": {},
     "output_type": "execute_result"
    }
   ],
   "source": [
    "get_price__european(simulated_prices, K, r, T, 'call')\n"
   ]
  }
 ],
 "metadata": {
  "kernelspec": {
   "display_name": "base",
   "language": "python",
   "name": "python3"
  },
  "language_info": {
   "codemirror_mode": {
    "name": "ipython",
    "version": 3
   },
   "file_extension": ".py",
   "mimetype": "text/x-python",
   "name": "python",
   "nbconvert_exporter": "python",
   "pygments_lexer": "ipython3",
   "version": "3.11.4"
  }
 },
 "nbformat": 4,
 "nbformat_minor": 5
}
