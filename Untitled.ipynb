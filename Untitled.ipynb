{
 "cells": [
  {
   "cell_type": "code",
   "execution_count": 1,
   "id": "3cacbdd3",
   "metadata": {},
   "outputs": [],
   "source": [
    "import pandas as pd\n",
    "import numpy as np\n",
    "import matplotlib.pyplot as plt\n",
    "import yfinance as yf\n",
    "import datetime as dt\n",
    "\n",
    "np.random.seed(123)"
   ]
  },
  {
   "cell_type": "code",
   "execution_count": 2,
   "id": "bdf6211e",
   "metadata": {},
   "outputs": [],
   "source": [
    "## Funcion para obtener datos de una lista de activos dados\n",
    "\n",
    "\n",
    "def get_data(stocks, start, end):\n",
    "    prices = yf.download(stocks, start, end, progress = False)[\"Close\"]\n",
    "    returns = prices.pct_change().dropna()\n",
    "    mean_returns = returns.mean()\n",
    "    std_returns = returns.cov()\n",
    "    return mean_returns, std_returns, prices"
   ]
  },
  {
   "cell_type": "code",
   "execution_count": 25,
   "id": "27af1934",
   "metadata": {},
   "outputs": [],
   "source": [
    "\n",
    "def simular_precios(mean_returns, std_returns, prices, num_dias, stocks):\n",
    "\n",
    "    N = 1000\n",
    "    weights = np.ones(len(stocks)) / len(stocks)\n",
    "\n",
    "    print(weights)\n",
    "    #Rendimiento esperado del portafolio\n",
    "    portfolio_return = mean_returns.dot(weights)\n",
    "\n",
    "    portfolio_simulated_returns = np.full( shape=(num_dias, N), fill_value=0.0 )\n",
    "    mean_returns = np.full( shape=(num_dias, N), fill_value=portfolio_return )\n",
    "\n",
    "    print(portfolio_return)\n",
    "    print(portfolio_simulated_returns)\n",
    "    print(mean_returns)\n",
    "\n",
    "    for m in range(1):\n",
    "        Z = np.random.normal( size = (num_dias, len(weights) )   ) # Matriz de n_dias (filas), Num activos columnas\n",
    "\n",
    "\n",
    "\n",
    "    Z = np.random.normal(0, 1, num_dias)\n",
    "    simulated_returns = np.array(mean_returns) + np.array(std_returns) * Z\n",
    "    cumulative_simulated_returns =  np.cumproduct(1 + simulated_returns)\n",
    "    initial_price = np.array(prices.iloc[-1])\n",
    "    simulated_prices = initial_price * cumulative_simulated_returns\n",
    "    return simulated_prices\n"
   ]
  },
  {
   "cell_type": "code",
   "execution_count": 26,
   "id": "50954e0e",
   "metadata": {},
   "outputs": [
    {
     "name": "stdout",
     "output_type": "stream",
     "text": [
      "[0.33333333 0.33333333 0.33333333]\n",
      "0.0007005067040984068\n",
      "[[0. 0. 0. ... 0. 0. 0.]\n",
      " [0. 0. 0. ... 0. 0. 0.]\n",
      " [0. 0. 0. ... 0. 0. 0.]\n",
      " ...\n",
      " [0. 0. 0. ... 0. 0. 0.]\n",
      " [0. 0. 0. ... 0. 0. 0.]\n",
      " [0. 0. 0. ... 0. 0. 0.]]\n",
      "[[0.00070051 0.00070051 0.00070051 ... 0.00070051 0.00070051 0.00070051]\n",
      " [0.00070051 0.00070051 0.00070051 ... 0.00070051 0.00070051 0.00070051]\n",
      " [0.00070051 0.00070051 0.00070051 ... 0.00070051 0.00070051 0.00070051]\n",
      " ...\n",
      " [0.00070051 0.00070051 0.00070051 ... 0.00070051 0.00070051 0.00070051]\n",
      " [0.00070051 0.00070051 0.00070051 ... 0.00070051 0.00070051 0.00070051]\n",
      " [0.00070051 0.00070051 0.00070051 ... 0.00070051 0.00070051 0.00070051]]\n"
     ]
    },
    {
     "ename": "ValueError",
     "evalue": "operands could not be broadcast together with shapes (3,3) (30,) ",
     "output_type": "error",
     "traceback": [
      "\u001b[1;31m---------------------------------------------------------------------------\u001b[0m",
      "\u001b[1;31mValueError\u001b[0m                                Traceback (most recent call last)",
      "Cell \u001b[1;32mIn[26], line 3\u001b[0m\n\u001b[0;32m      1\u001b[0m stocks \u001b[38;5;241m=\u001b[39m [\u001b[38;5;124m\"\u001b[39m\u001b[38;5;124mAAPL\u001b[39m\u001b[38;5;124m\"\u001b[39m,\u001b[38;5;124m\"\u001b[39m\u001b[38;5;124mMSFT\u001b[39m\u001b[38;5;124m\"\u001b[39m,\u001b[38;5;124m\"\u001b[39m\u001b[38;5;124mTSLA\u001b[39m\u001b[38;5;124m\"\u001b[39m]\n\u001b[0;32m      2\u001b[0m mean_returns, std_returns, prices \u001b[38;5;241m=\u001b[39m get_data(stocks, dt\u001b[38;5;241m.\u001b[39mdatetime\u001b[38;5;241m.\u001b[39mnow() \u001b[38;5;241m-\u001b[39m dt\u001b[38;5;241m.\u001b[39mtimedelta( days\u001b[38;5;241m=\u001b[39m \u001b[38;5;241m365\u001b[39m \u001b[38;5;241m*\u001b[39m \u001b[38;5;241m3\u001b[39m  )  , dt\u001b[38;5;241m.\u001b[39mdatetime\u001b[38;5;241m.\u001b[39mnow() )\n\u001b[1;32m----> 3\u001b[0m simular_precios(mean_returns, std_returns, prices, \u001b[38;5;241m30\u001b[39m, stocks)\n",
      "Cell \u001b[1;32mIn[25], line 23\u001b[0m, in \u001b[0;36msimular_precios\u001b[1;34m(mean_returns, std_returns, prices, num_dias, stocks)\u001b[0m\n\u001b[0;32m     18\u001b[0m     Z \u001b[38;5;241m=\u001b[39m np\u001b[38;5;241m.\u001b[39mrandom\u001b[38;5;241m.\u001b[39mnormal( size \u001b[38;5;241m=\u001b[39m (num_dias, \u001b[38;5;28mlen\u001b[39m(weights) )   )\n\u001b[0;32m     22\u001b[0m Z \u001b[38;5;241m=\u001b[39m np\u001b[38;5;241m.\u001b[39mrandom\u001b[38;5;241m.\u001b[39mnormal(\u001b[38;5;241m0\u001b[39m, \u001b[38;5;241m1\u001b[39m, num_dias)\n\u001b[1;32m---> 23\u001b[0m simulated_returns \u001b[38;5;241m=\u001b[39m np\u001b[38;5;241m.\u001b[39marray(mean_returns) \u001b[38;5;241m+\u001b[39m np\u001b[38;5;241m.\u001b[39marray(std_returns) \u001b[38;5;241m*\u001b[39m Z\n\u001b[0;32m     24\u001b[0m cumulative_simulated_returns \u001b[38;5;241m=\u001b[39m  np\u001b[38;5;241m.\u001b[39mcumproduct(\u001b[38;5;241m1\u001b[39m \u001b[38;5;241m+\u001b[39m simulated_returns)\n\u001b[0;32m     25\u001b[0m initial_price \u001b[38;5;241m=\u001b[39m np\u001b[38;5;241m.\u001b[39marray(prices\u001b[38;5;241m.\u001b[39miloc[\u001b[38;5;241m-\u001b[39m\u001b[38;5;241m1\u001b[39m])\n",
      "\u001b[1;31mValueError\u001b[0m: operands could not be broadcast together with shapes (3,3) (30,) "
     ]
    }
   ],
   "source": [
    "stocks = [\"AAPL\",\"MSFT\",\"TSLA\"]\n",
    "mean_returns, std_returns, prices = get_data(stocks, dt.datetime.now() - dt.timedelta( days= 365 * 3  )  , dt.datetime.now() )\n",
    "simular_precios(mean_returns, std_returns, prices, 30, stocks)\n",
    "\n"
   ]
  },
  {
   "cell_type": "code",
   "execution_count": null,
   "id": "4b8ac0be",
   "metadata": {},
   "outputs": [],
   "source": []
  },
  {
   "cell_type": "code",
   "execution_count": null,
   "id": "980d9ad7",
   "metadata": {},
   "outputs": [],
   "source": []
  }
 ],
 "metadata": {
  "kernelspec": {
   "display_name": "Python 3 (ipykernel)",
   "language": "python",
   "name": "python3"
  },
  "language_info": {
   "codemirror_mode": {
    "name": "ipython",
    "version": 3
   },
   "file_extension": ".py",
   "mimetype": "text/x-python",
   "name": "python",
   "nbconvert_exporter": "python",
   "pygments_lexer": "ipython3",
   "version": "3.11.4"
  }
 },
 "nbformat": 4,
 "nbformat_minor": 5
}
