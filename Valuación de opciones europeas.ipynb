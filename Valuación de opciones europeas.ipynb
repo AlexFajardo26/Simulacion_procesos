{
 "cells": [
  {
   "cell_type": "markdown",
   "id": "15cfe709",
   "metadata": {
    "id": "15cfe709"
   },
   "source": [
    "## Modelo de Monte Carlo para la valuación de opciones europeas\n",
    "\n",
    "#### _European Option Pricing with Montecarlo_\n",
    "\n",
    "\n",
    "\n",
    "#### Ventajas y limitaciones del enfoque de Monte Carlo\n",
    "\n",
    "#### Ventajas:\n",
    "\n",
    "- Flexibilidad: el modelo de Monte Carlo es aplicable a una amplia variedad de opciones y activos subyacentes, incluyendo opciones personalizadas que sean más difíciles de adaptar desde Black-Scholes.\n",
    "\n",
    "\n",
    "#### Limitaciones:\n",
    "\n",
    "- Tiempo de cálculo: a medida que aumenta el número de simulaciones, el tiempo de cálculo también aumenta.\n",
    "- Precisión: el valor estimado de la opción puede tener cierta variabilidad debido al carácter aleatorio de las simulaciones.\n",
    "\n",
    "### Matemáticas necesarias\n",
    "\n",
    "Puedes valuar una opción sin utilizar el modelo de Black-Scholes y en su lugar para simular el precio del activo subyacente en diferentes momentos, utilizar la ecuación de Movimiento Geométrico Browniano [_(Geometric Brownian Motion)_](https://en.wikipedia.org/wiki/Geometric_Brownian_motion), que se define como:\n",
    "\n",
    "$$\n",
    "S_t = S_0 \\cdot e^{(r - \\frac{\\sigma^2}{2})t + \\sigma\\sqrt{t}Z}\n",
    "$$\n",
    "\n",
    "\n",
    "Donde:\n",
    "\n",
    "$S_t$: Precio del activo subyacente en el tiempo $t$\n",
    "\n",
    "$S_0$: Precio inicial del activo subyacente\n",
    "\n",
    "$r$: Tasa de interés libre de riesgo\n",
    "\n",
    "$\\sigma$: Volatilidad del activo subyacente\n",
    "\n",
    "$t$: Tiempo\n",
    "\n",
    "$Z$: Variable aleatoria normal estándar (con media 0 y desviación estándar 1)"
   ]
  },
  {
   "cell_type": "markdown",
   "id": "e1213a64",
   "metadata": {
    "id": "e1213a64"
   },
   "source": [
    "A continuación, calculamos el valor esperado del pago (valor intrínseco) de la opción en cada trayectoria simulada y descontamos el valor a la fecha presente utilizando la tasa de interés libre de riesgo."
   ]
  },
  {
   "cell_type": "markdown",
   "id": "1bb7d6cc",
   "metadata": {
    "id": "1bb7d6cc"
   },
   "source": [
    "Para una opción europea call, el valor intrínseco es:\n",
    "\n",
    "$ C_T = max(S_T − K,0) $\n",
    "\n",
    "Para una opción europea put, el valor intrínseco es:\n",
    "\n",
    "$ P_T = max(K - S_T,0) $\n",
    "\n",
    "Donde $K$ es el precio strike de la opción.\n",
    "\n",
    "El valor esperado de la opción se calcula como la media de los pagos descontados de todas las trayectorias simuladas y se expresa como:\n",
    "\n",
    "$$\n",
    "C_0 = e^{-rT} \\cdot \\frac{1}{N} \\sum_{i=1}^{N} C_{T,i}\n",
    "$$\n",
    "\n",
    "\n",
    "$$\n",
    "P_0 = e^{-rT} \\cdot \\frac{1}{N} \\sum_{i=1}^{N} P_{T,i}\n",
    "$$\n"
   ]
  },
  {
   "cell_type": "markdown",
   "id": "6bfdf42a",
   "metadata": {
    "id": "6bfdf42a"
   },
   "source": [
    "**Donde:**\n",
    "\n",
    "**$C_0$ y $P_0$:** Valor presente de la opción de compra y de venta, respectivamente.\n",
    "\n",
    "**$T$:** Tiempo hasta el vencimiento de la opción.\n",
    "\n",
    "**$N$:** Número de trayectorias simuladas.\n",
    "\n",
    "**$C_{T,i}$ y $P_{T,i}$:** Pago de la opción de compra y de venta en la trayectoria $i$, respectivamente.\n",
    "\n",
    "$r$: tasa libre de riesgo\n",
    "\n",
    "##### Pequeña explicación\n",
    "Estas fórmulas representan el precio actual (también conocido como valor presente) de una cartera de opciones de compra (C) y de venta (P), respectivamente. La estructura de ambas fórmulas es muy similar, y ambas tienen en cuenta el valor presente de los flujos de efectivo futuros.\n",
    "\n",
    "\n",
    "Para entender mejor cada elemento de las ecuaciones, vamos a desglosarlas:\n",
    "\n",
    "$C_0$ y $P_0$: estos son los precios actuales de las carteras de opciones de compra y de venta, respectivamente. Se calculan a partir del valor presente de los flujos de efectivo futuros.\n",
    "\n",
    "$e^{-rT}$: esta es la tasa de descuento, necesaria para convertir a valor presente el valor de las opciones al vencimiento. r es la tasa de interés libre de riesgo, y T es el tiempo en años que falta para el vencimiento de las opciones.\n",
    "\n",
    "$\\frac{1}{N} \\sum_{i=1}^{N} C_{T,i}$ y $\\frac{1}{N} \\sum_{i=1}^{N} P_{T,i}$: estas son las medias aritméticas de los precios de las opciones de compra y de venta que forman la cartera. Cada $C_{T,i}$ y $P_{T,i}$ representa el precio de una opción individual en el momento T.\n"
   ]
  },
  {
   "cell_type": "markdown",
   "id": "935fa909",
   "metadata": {
    "id": "935fa909"
   },
   "source": [
    "Ahora, implementemos esto en Python y usemos gráficas para visualizar los resultados."
   ]
  },
  {
   "cell_type": "markdown",
   "id": "43651feb",
   "metadata": {
    "id": "43651feb"
   },
   "source": [
    "**Importación de las bibliotecas necesarias**"
   ]
  },
  {
   "cell_type": "code",
   "execution_count": 1,
   "id": "RQR1AP6IKrtQ",
   "metadata": {
    "executionInfo": {
     "elapsed": 3494,
     "status": "ok",
     "timestamp": 1742862664647,
     "user": {
      "displayName": "Alan",
      "userId": "13671086457332845061"
     },
     "user_tz": 360
    },
    "id": "RQR1AP6IKrtQ"
   },
   "outputs": [],
   "source": [
    "import numpy as np\n",
    "import pandas as pd\n",
    "import matplotlib.pyplot as plt\n",
    "import yfinance as yf"
   ]
  },
  {
   "cell_type": "markdown",
   "id": "6cba0c7c",
   "metadata": {
    "id": "6cba0c7c"
   },
   "source": [
    "**Cálculo del rendimiento diario y la volatilidad anualizada del activo subyacente**\n",
    "\n",
    "Estas líneas de código se utilizan para calcular la volatilidad anualizada de un activo subyacente, que es un componente clave en la valuación de opciones. Es importante tener en cuenta que el cálculo de la volatilidad implica el uso de logaritmos, que son válidos en el contexto de las finanzas.\n",
    "\n",
    "El cálculo del rendimiento diario del activo subyacente se realiza a partir de la serie de precios diarios del activo. La función \"np.log\" se utiliza para calcular el logaritmo natural del cociente de los precios del activo en dos días consecutivos. Al tomar el logaritmo de este cociente, estamos calculando la variación porcentual entre los dos precios y no simplemente la diferencia de precios. Luego, se elimina cualquier valor NaN (not a number) con la función \"dropna()\" para asegurarnos de que los cálculos posteriores sean precisos.\n",
    "\n",
    "Una vez que se han calculado los rendimientos diarios del activo subyacente, se utiliza la desviación estándar anualizada de estos rendimientos para calcular la volatilidad anualizada del activo subyacente. La volatilidad anualizada se calcula multiplicando la desviación estándar de los rendimientos diarios por la raíz cuadrada de 252 (que es el número de días de negociación en un año típico). El resultado es la volatilidad anualizada del activo subyacente.\n",
    "\n",
    "El uso de logaritmos es válido en finanzas porque es común asumir que el rendimiento de los activos financieros tiende a seguir una distribución lognormal. Esto significa que los rendimientos tienden a estar más cerca de la media y tienen una cola más larga hacia los valores extremos. El uso de logaritmos ayuda a manejar los valores extremos de los rendimientos y hacer que los cálculos sean más precisos. Además, el uso de logaritmos permite sumar los rendimientos en lugar de multiplicarlos, lo que hace que los cálculos sean más fáciles."
   ]
  },
  {
   "cell_type": "code",
   "execution_count": 2,
   "id": "8mIhKHIELhAn",
   "metadata": {
    "colab": {
     "base_uri": "https://localhost:8080/"
    },
    "executionInfo": {
     "elapsed": 861,
     "status": "ok",
     "timestamp": 1742862665506,
     "user": {
      "displayName": "Alan",
      "userId": "13671086457332845061"
     },
     "user_tz": 360
    },
    "id": "8mIhKHIELhAn",
    "outputId": "17d5b515-f4eb-4cb5-87a1-0c43465467e0"
   },
   "outputs": [
    {
     "name": "stdout",
     "output_type": "stream",
     "text": [
      "YF.download() has changed argument auto_adjust default to True\n"
     ]
    },
    {
     "name": "stderr",
     "output_type": "stream",
     "text": [
      "[*********************100%***********************]  1 of 1 completed\n"
     ]
    }
   ],
   "source": [
    "ticker = 'SPY'\n",
    "data = yf.download(ticker, start='2022-01-01', end='2025-03-15')['Close']['SPY']"
   ]
  },
  {
   "cell_type": "code",
   "execution_count": 3,
   "id": "sk3AXB7OLqP6",
   "metadata": {
    "colab": {
     "base_uri": "https://localhost:8080/",
     "height": 489
    },
    "executionInfo": {
     "elapsed": 4,
     "status": "ok",
     "timestamp": 1742862665511,
     "user": {
      "displayName": "Alan",
      "userId": "13671086457332845061"
     },
     "user_tz": 360
    },
    "id": "sk3AXB7OLqP6",
    "outputId": "8b759c79-694a-4e68-e334-85c4e1dcdc00"
   },
   "outputs": [
    {
     "data": {
      "text/plain": [
       "Date\n",
       "2022-01-03    455.810455\n",
       "2022-01-04    455.657715\n",
       "2022-01-05    446.908112\n",
       "2022-01-06    446.488281\n",
       "2022-01-07    444.723145\n",
       "                 ...    \n",
       "2025-03-10    558.898743\n",
       "2025-03-11    554.252686\n",
       "2025-03-12    557.193848\n",
       "2025-03-13    549.766174\n",
       "2025-03-14    561.122009\n",
       "Name: SPY, Length: 802, dtype: float64"
      ]
     },
     "execution_count": 3,
     "metadata": {},
     "output_type": "execute_result"
    }
   ],
   "source": [
    "data"
   ]
  },
  {
   "cell_type": "code",
   "execution_count": 4,
   "id": "J4ysrPw4L_fR",
   "metadata": {
    "executionInfo": {
     "elapsed": 12,
     "status": "ok",
     "timestamp": 1742862665523,
     "user": {
      "displayName": "Alan",
      "userId": "13671086457332845061"
     },
     "user_tz": 360
    },
    "id": "J4ysrPw4L_fR"
   },
   "outputs": [],
   "source": [
    "daily_returns = data.pct_change()\n",
    "daily_returns = daily_returns.dropna()\n",
    "sigma = daily_returns.std() * np.sqrt(252)"
   ]
  },
  {
   "cell_type": "code",
   "execution_count": 5,
   "id": "CbXMtT17MaMo",
   "metadata": {
    "executionInfo": {
     "elapsed": 7,
     "status": "ok",
     "timestamp": 1742862676792,
     "user": {
      "displayName": "Alan",
      "userId": "13671086457332845061"
     },
     "user_tz": 360
    },
    "id": "CbXMtT17MaMo"
   },
   "outputs": [],
   "source": [
    "S0 = data.iloc[-1] #Precio Spot\n",
    "r = 0.10 # Tasa libre de riesgo\n",
    "T = 100 / 365 # Días al vencimiento\n",
    "\n",
    "num_simulations = 10000\n"
   ]
  },
  {
   "cell_type": "code",
   "execution_count": 6,
   "id": "4WE79_h4N2nJ",
   "metadata": {
    "executionInfo": {
     "elapsed": 4,
     "status": "ok",
     "timestamp": 1742862678086,
     "user": {
      "displayName": "Alan",
      "userId": "13671086457332845061"
     },
     "user_tz": 360
    },
    "id": "4WE79_h4N2nJ"
   },
   "outputs": [],
   "source": [
    "Z = np.random.normal(0, 1, num_simulations)\n"
   ]
  },
  {
   "cell_type": "code",
   "execution_count": 7,
   "id": "hmPpLPOUORaK",
   "metadata": {
    "executionInfo": {
     "elapsed": 5,
     "status": "ok",
     "timestamp": 1742862678885,
     "user": {
      "displayName": "Alan",
      "userId": "13671086457332845061"
     },
     "user_tz": 360
    },
    "id": "hmPpLPOUORaK"
   },
   "outputs": [],
   "source": [
    "St = S0 * np.exp( (r - 0.5 * sigma ** 2) * T + sigma * np.sqrt(T) * Z  )\n"
   ]
  },
  {
   "cell_type": "markdown",
   "id": "16187401",
   "metadata": {
    "id": "16187401"
   },
   "source": [
    "**Definición de los parámetros para la simulación de Monte Carlo**"
   ]
  },
  {
   "cell_type": "markdown",
   "id": "17ea2d68",
   "metadata": {
    "id": "17ea2d68"
   },
   "source": [
    "**Simulación de Monte Carlo para generar una serie de precios posibles para el activo subyacente en la fecha de vencimiento de las opciones**\n",
    "\n",
    "Las siguientes dos líneas de código se utilizan para generar trayectorias simuladas del precio del activo subyacente.\n",
    "\n",
    "La primera línea de código genera un conjunto de números aleatorios normalmente distribuidos utilizando la función \"np.random.normal\". Estos números se utilizan para simular la variación aleatoria en el precio del activo subyacente. La función \"np.random.normal\" toma tres argumentos: la media (que es cero en este caso), la desviación estándar (que es uno en este caso) y el número de simulaciones que se desean generar (que es el valor de \"num_simulations\").\n",
    "\n",
    "La segunda línea de código utiliza los números aleatorios generados anteriormente para simular los precios del activo subyacente en diferentes momentos en el futuro. La fórmula utilizada se basa en el modelo de movimiento geométrico Browniano.La fórmula tiene en cuenta el precio actual del activo subyacente (S0), la volatilidad anualizada del activo subyacente (sigma), el tiempo hasta el vencimiento de las opciones (T), la tasa de interés libre de riesgo (r) y los números aleatorios generados anteriormente (Z)."
   ]
  },
  {
   "cell_type": "markdown",
   "id": "65303bf0",
   "metadata": {
    "id": "65303bf0"
   },
   "source": [
    "**Cálculo del pago de las opciones para cada una de las trayectorias simuladas**\n",
    "\n",
    "Estas líneas de código se utilizan para calcular el pago de una opción de compra (call) y una opción de venta (put) respectivamente, a partir de los precios simulados del activo subyacente.\n",
    "\n",
    "La primera línea de código utiliza la función \"np.maximum\" para calcular el pago de la opción de compra. La función \"np.maximum\" toma dos argumentos: los precios simulados del activo subyacente (St) y el precio de ejercicio de la opción de compra (K). La función devuelve el valor máximo entre la diferencia entre los precios simulados del activo subyacente y el precio de ejercicio (St - K) y cero. Esto asegura que el pago de la opción de compra siempre sea cero si el precio del activo subyacente en el futuro es menor que el precio de ejercicio, y de lo contrario, sea igual a la diferencia entre el precio simulado del activo subyacente y el precio de ejercicio.\n",
    "\n",
    "La segunda línea de código utiliza la misma función \"np.maximum\" para calcular el pago de la opción de venta. En este caso, la función devuelve el valor máximo entre la diferencia entre el precio de ejercicio y los precios simulados del activo subyacente (K - St) y cero. Esto asegura que el pago de la opción de venta siempre sea cero si el precio del activo subyacente en el futuro es mayor que el precio de ejercicio, y de lo contrario, sea igual a la diferencia entre el precio de ejercicio y el precio simulado del activo subyacente."
   ]
  },
  {
   "cell_type": "code",
   "execution_count": 8,
   "id": "_KKokU9gPj98",
   "metadata": {
    "executionInfo": {
     "elapsed": 15,
     "status": "ok",
     "timestamp": 1742862753536,
     "user": {
      "displayName": "Alan",
      "userId": "13671086457332845061"
     },
     "user_tz": 360
    },
    "id": "_KKokU9gPj98"
   },
   "outputs": [],
   "source": [
    "K = S0"
   ]
  },
  {
   "cell_type": "code",
   "execution_count": 9,
   "id": "nPBGTTHCtgqK",
   "metadata": {
    "colab": {
     "base_uri": "https://localhost:8080/"
    },
    "executionInfo": {
     "elapsed": 6,
     "status": "ok",
     "timestamp": 1742862685960,
     "user": {
      "displayName": "Alan",
      "userId": "13671086457332845061"
     },
     "user_tz": 360
    },
    "id": "nPBGTTHCtgqK",
    "outputId": "a81c9911-5a09-469b-f5ed-750acb8d1b3f"
   },
   "outputs": [
    {
     "data": {
      "text/plain": [
       "561.1220092773438"
      ]
     },
     "execution_count": 9,
     "metadata": {},
     "output_type": "execute_result"
    }
   ],
   "source": [
    "S0"
   ]
  },
  {
   "cell_type": "code",
   "execution_count": 10,
   "id": "DTn6T2GNPb9L",
   "metadata": {
    "executionInfo": {
     "elapsed": 8,
     "status": "ok",
     "timestamp": 1742862687850,
     "user": {
      "displayName": "Alan",
      "userId": "13671086457332845061"
     },
     "user_tz": 360
    },
    "id": "DTn6T2GNPb9L"
   },
   "outputs": [],
   "source": [
    "call = np.maximum(St - K, 0)\n",
    "put = np.maximum(K - St, 0)"
   ]
  },
  {
   "cell_type": "code",
   "execution_count": 11,
   "id": "UOwLTNOoPpw0",
   "metadata": {
    "colab": {
     "base_uri": "https://localhost:8080/"
    },
    "executionInfo": {
     "elapsed": 3,
     "status": "ok",
     "timestamp": 1742862688575,
     "user": {
      "displayName": "Alan",
      "userId": "13671086457332845061"
     },
     "user_tz": 360
    },
    "id": "UOwLTNOoPpw0",
    "outputId": "726463bb-f99d-4865-b4b9-1186f25cb3d9"
   },
   "outputs": [
    {
     "data": {
      "text/plain": [
       "array([45.46670831, 12.74193684, 50.66788608, ..., 66.0380256 ,\n",
       "        0.        ,  0.71885736])"
      ]
     },
     "execution_count": 11,
     "metadata": {},
     "output_type": "execute_result"
    }
   ],
   "source": [
    "call"
   ]
  },
  {
   "cell_type": "code",
   "execution_count": 12,
   "id": "hatkxev-Prhk",
   "metadata": {
    "colab": {
     "base_uri": "https://localhost:8080/"
    },
    "executionInfo": {
     "elapsed": 99,
     "status": "ok",
     "timestamp": 1742862689814,
     "user": {
      "displayName": "Alan",
      "userId": "13671086457332845061"
     },
     "user_tz": 360
    },
    "id": "hatkxev-Prhk",
    "outputId": "3159909f-1a7d-4a5e-8ce0-50c0f15228d4"
   },
   "outputs": [
    {
     "data": {
      "text/plain": [
       "array([0.        , 0.        , 0.        , ..., 0.        , 3.58166556,\n",
       "       0.        ])"
      ]
     },
     "execution_count": 12,
     "metadata": {},
     "output_type": "execute_result"
    }
   ],
   "source": [
    "put"
   ]
  },
  {
   "cell_type": "code",
   "execution_count": 13,
   "id": "JOYuGECZPt3L",
   "metadata": {
    "executionInfo": {
     "elapsed": 3,
     "status": "ok",
     "timestamp": 1742862690862,
     "user": {
      "displayName": "Alan",
      "userId": "13671086457332845061"
     },
     "user_tz": 360
    },
    "id": "JOYuGECZPt3L"
   },
   "outputs": [],
   "source": [
    "call_value = np.exp(-r * T) * np.mean(call)\n",
    "put_value = np.exp(-r * T) * np.mean(put)"
   ]
  },
  {
   "cell_type": "code",
   "execution_count": 14,
   "id": "A-U2oWVjPzZh",
   "metadata": {
    "colab": {
     "base_uri": "https://localhost:8080/"
    },
    "executionInfo": {
     "elapsed": 3,
     "status": "ok",
     "timestamp": 1742862691488,
     "user": {
      "displayName": "Alan",
      "userId": "13671086457332845061"
     },
     "user_tz": 360
    },
    "id": "A-U2oWVjPzZh",
    "outputId": "661bdf22-7b11-461e-b175-77f02410ba31"
   },
   "outputs": [
    {
     "data": {
      "text/plain": [
       "28.267274757252014"
      ]
     },
     "execution_count": 14,
     "metadata": {},
     "output_type": "execute_result"
    }
   ],
   "source": [
    "# K = 580\n",
    "call_value"
   ]
  },
  {
   "cell_type": "code",
   "execution_count": 15,
   "id": "gqeET2D1P1u-",
   "metadata": {
    "colab": {
     "base_uri": "https://localhost:8080/"
    },
    "executionInfo": {
     "elapsed": 3,
     "status": "ok",
     "timestamp": 1742862692328,
     "user": {
      "displayName": "Alan",
      "userId": "13671086457332845061"
     },
     "user_tz": 360
    },
    "id": "gqeET2D1P1u-",
    "outputId": "ec2658b7-e204-4f13-c885-d99558e8c484"
   },
   "outputs": [
    {
     "data": {
      "text/plain": [
       "13.488079163082753"
      ]
     },
     "execution_count": 15,
     "metadata": {},
     "output_type": "execute_result"
    }
   ],
   "source": [
    "# K = 580\n",
    "put_value"
   ]
  },
  {
   "cell_type": "code",
   "execution_count": null,
   "id": "94HggOOEtq1T",
   "metadata": {
    "id": "94HggOOEtq1T"
   },
   "outputs": [],
   "source": []
  },
  {
   "cell_type": "markdown",
   "id": "d531c650",
   "metadata": {
    "id": "d531c650"
   },
   "source": [
    "**Cálculo del valor presente de las opciones mediante la obtención del promedio de los pagos de las opciones y su descontado a su valor presente**"
   ]
  },
  {
   "cell_type": "markdown",
   "id": "06e821b7",
   "metadata": {
    "id": "06e821b7"
   },
   "source": [
    "Estas líneas de código se utilizan para calcular el valor presente de una opción de compra (call) y una opción de venta (put), respectivamente, a partir de los pagos de opciones calculados previamente y teniendo en cuenta la tasa de interés libre de riesgo.\n",
    "\n",
    "La primera línea de código utiliza la fórmula de valor presente para calcular el valor presente de la opción de compra. La fórmula tiene en cuenta el pago de la opción de compra calculado previamente (call_payoff), la tasa de interés libre de riesgo (r) y el tiempo hasta el vencimiento de la opción (T). La función \"np.mean\" se utiliza para calcular la media aritmética de los pagos de opciones. Luego, se multiplica el valor promedio de los pagos de opciones por el factor de descuento del valor presente (np.exp(-r * T)) para obtener el valor presente de la opción de compra.\n",
    "\n",
    "La segunda línea de código utiliza la misma fórmula de valor presente para calcular el valor presente de la opción de venta. En este caso, se utiliza el pago de la opción de venta calculado previamente (put_payoff) en lugar del pago de la opción de compra. Se utiliza la misma función \"np.mean\" para calcular la media aritmética de los pagos de opciones, y luego se multiplica por el factor de descuento del valor presente (np.exp(-r * T)) para obtener el valor presente de la opción de venta."
   ]
  },
  {
   "cell_type": "markdown",
   "id": "df1f79c1",
   "metadata": {
    "id": "df1f79c1"
   },
   "source": [
    "**Impresión de los resultados de la valuación de las opciones**"
   ]
  }
 ],
 "metadata": {
  "colab": {
   "provenance": [
    {
     "file_id": "1C3ysGvJO0-iT_DO78HKCqKqd3v9AwM6O",
     "timestamp": 1696377114816
    }
   ]
  },
  "kernelspec": {
   "display_name": "base",
   "language": "python",
   "name": "python3"
  },
  "language_info": {
   "codemirror_mode": {
    "name": "ipython",
    "version": 3
   },
   "file_extension": ".py",
   "mimetype": "text/x-python",
   "name": "python",
   "nbconvert_exporter": "python",
   "pygments_lexer": "ipython3",
   "version": "3.11.4"
  }
 },
 "nbformat": 4,
 "nbformat_minor": 5
}
