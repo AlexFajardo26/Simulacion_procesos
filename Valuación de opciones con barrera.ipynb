{
 "cells": [
  {
   "cell_type": "code",
   "execution_count": 2,
   "metadata": {},
   "outputs": [],
   "source": [
    "import numpy as np\n",
    "import pandas as pd\n",
    "import matplotlib.pyplot as plt\n",
    "import yfinance as yf"
   ]
  },
  {
   "cell_type": "code",
   "execution_count": 3,
   "metadata": {},
   "outputs": [
    {
     "name": "stdout",
     "output_type": "stream",
     "text": [
      "YF.download() has changed argument auto_adjust default to True\n"
     ]
    },
    {
     "name": "stderr",
     "output_type": "stream",
     "text": [
      "[*********************100%***********************]  1 of 1 completed\n"
     ]
    }
   ],
   "source": [
    "ticker = 'SPY'\n",
    "data = yf.download(ticker, start='2022-01-01', end='2025-03-15')['Close']['SPY']"
   ]
  },
  {
   "cell_type": "code",
   "execution_count": 5,
   "metadata": {},
   "outputs": [],
   "source": [
    "daily_returns = data.pct_change().dropna()\n",
    "sigma = daily_returns.std() * np.sqrt(252)"
   ]
  },
  {
   "cell_type": "code",
   "execution_count": 6,
   "metadata": {},
   "outputs": [
    {
     "data": {
      "text/plain": [
       "Date\n",
       "2025-03-10   -0.026636\n",
       "2025-03-11   -0.008313\n",
       "2025-03-12    0.005307\n",
       "2025-03-13   -0.013331\n",
       "2025-03-14    0.020656\n",
       "Name: SPY, dtype: float64"
      ]
     },
     "execution_count": 6,
     "metadata": {},
     "output_type": "execute_result"
    }
   ],
   "source": [
    "daily_returns.tail()"
   ]
  },
  {
   "cell_type": "code",
   "execution_count": 8,
   "metadata": {},
   "outputs": [],
   "source": [
    "## PARAMETROS\n",
    "\n",
    "#Precio Spot\n",
    "S0 = data.iloc[-1]\n",
    "sigma = daily_returns.std() * np.sqrt(252)\n",
    "\n",
    "# Tasa libre de riesgo\n",
    "r = 0.10\n",
    "\n",
    "# Días al vencimiento\n",
    "T = 252\n",
    "dt = 1 / T\n",
    "\n",
    "num_simulations = 10000\n",
    "\n",
    "# Choques aleatorios para rendimientos del subyacente\n",
    "Z = np.random.normal(0, 1, (num_simulations, T ) )\n",
    "\n",
    "# Matriz de precios simulados del subyacente\n",
    "# N filas X Pasos + 1 (Por S0)\n",
    "price_matrix = np.zeros( (num_simulations, T + 1 ) )\n"
   ]
  },
  {
   "cell_type": "code",
   "execution_count": null,
   "metadata": {},
   "outputs": [],
   "source": [
    "## PRICING\n",
    "\n",
    "barrier_price = S0\n",
    "\n",
    "\n",
    "for i in range (num_simulations):\n",
    "\n",
    "    #Inicio de la trayectoria simulada\n",
    "    price_path = [S0]\n",
    "    barrier_breached = False\n",
    "\n",
    "    for dia in range(1, T+1):\n",
    "        St = price_path[-1] * np.exp((r - 0.5 * sigma ** 2) * dt + sigma * np.sqrt(dt) * Z[i, dia - 1])\n",
    "        price_path.append(St)\n",
    "\n",
    "        # Para este ejemplo, si ST es mayor a la barrera:\n",
    "        if St > barrier_price:\n",
    "            barrier_breached = True\n",
    "            break\n",
    "\n",
    "    if not barrier_breached:\n",
    "        price_matrix[i, :] = price_path\n",
    "\n",
    "    "
   ]
  }
 ],
 "metadata": {
  "kernelspec": {
   "display_name": "base",
   "language": "python",
   "name": "python3"
  },
  "language_info": {
   "codemirror_mode": {
    "name": "ipython",
    "version": 3
   },
   "file_extension": ".py",
   "mimetype": "text/x-python",
   "name": "python",
   "nbconvert_exporter": "python",
   "pygments_lexer": "ipython3",
   "version": "3.11.4"
  }
 },
 "nbformat": 4,
 "nbformat_minor": 2
}
